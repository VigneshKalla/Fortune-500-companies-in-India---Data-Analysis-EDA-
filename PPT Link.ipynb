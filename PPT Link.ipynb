{
 "cells": [
  {
   "cell_type": "markdown",
   "id": "027da516",
   "metadata": {},
   "source": [
    "PPT Link:- [https://www.canva.com/design/DAG2yb_siDQ/wScbu-_YPCQXlZCqzcUYsA/view?utm_content=DAG2yb_siDQ&utm_campaign=designshare&utm_medium=link2&utm_source=uniquelinks&utlId=h632b8291a7]"
   ]
  }
 ],
 "metadata": {
  "kernelspec": {
   "display_name": "Python 3 (ipykernel)",
   "language": "python",
   "name": "python3"
  },
  "language_info": {
   "codemirror_mode": {
    "name": "ipython",
    "version": 3
   },
   "file_extension": ".py",
   "mimetype": "text/x-python",
   "name": "python",
   "nbconvert_exporter": "python",
   "pygments_lexer": "ipython3",
   "version": "3.13.3"
  }
 },
 "nbformat": 4,
 "nbformat_minor": 5
}
